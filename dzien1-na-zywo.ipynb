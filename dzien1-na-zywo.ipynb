{
 "cells": [
  {
   "cell_type": "code",
   "execution_count": null,
   "id": "d26b7448",
   "metadata": {},
   "outputs": [],
   "source": [
    "2+3"
   ]
  },
  {
   "cell_type": "code",
   "execution_count": null,
   "id": "a8802afe",
   "metadata": {},
   "outputs": [],
   "source": [
    "# shift-enter daje wynik"
   ]
  },
  {
   "cell_type": "code",
   "execution_count": 5,
   "id": "3f856078",
   "metadata": {},
   "outputs": [
    {
     "name": "stdout",
     "output_type": "stream",
     "text": [
      "e= 2.718281828459045\n"
     ]
    },
    {
     "data": {
      "text/plain": [
       "3.141592653589793"
      ]
     },
     "execution_count": 5,
     "metadata": {},
     "output_type": "execute_result"
    }
   ],
   "source": [
    "import math # moduly\n",
    "math.e # vs\n",
    "print(\"e=\",math.e)\n",
    "math.pi # tylko ostatni wiersz jest wynikiem\n",
    "import path from os"
   ]
  },
  {
   "cell_type": "markdown",
   "id": "ad92f917",
   "metadata": {},
   "source": [
    "## Nagłówek\n"
   ]
  },
  {
   "cell_type": "code",
   "execution_count": 7,
   "id": "204f0a40",
   "metadata": {},
   "outputs": [
    {
     "name": "stdout",
     "output_type": "stream",
     "text": [
      "trojka pitagorejska 3 4.0 5.0\n"
     ]
    }
   ],
   "source": [
    "\n",
    "# zmienne liczbowe\n",
    "a = 3\n",
    "b = 4.0 # liczby zmiennoprzecinkow\n",
    "ce_kwadrat=a**2+b*b # a**b to a do potęgi b\n",
    "c = math.sqrt(ce_kwadrat)\n",
    "print(\"trojka pitagorejska\", a,b,c)"
   ]
  },
  {
   "cell_type": "code",
   "execution_count": 13,
   "id": "2d34d312",
   "metadata": {},
   "outputs": [
    {
     "ename": "SyntaxError",
     "evalue": "invalid syntax (<ipython-input-13-4112eb82bf0f>, line 1)",
     "output_type": "error",
     "traceback": [
      "\u001b[1;36m  File \u001b[1;32m\"<ipython-input-13-4112eb82bf0f>\"\u001b[1;36m, line \u001b[1;32m1\u001b[0m\n\u001b[1;33m    tekst1=\"\"owoc\" # mozna uzywac dwoch cudzyslowow\u001b[0m\n\u001b[1;37m                ^\u001b[0m\n\u001b[1;31mSyntaxError\u001b[0m\u001b[1;31m:\u001b[0m invalid syntax\n"
     ]
    }
   ],
   "source": [
    "tekst1=\"owoc\" # mozna uzywac dwoch cudzyslowow\n",
    "tekst2='owoc'\n",
    "print(tekst1==tekst2) ## == to operator porownania\n",
    "print(tekst1)"
   ]
  },
  {
   "cell_type": "code",
   "execution_count": 20,
   "id": "90b3980e",
   "metadata": {},
   "outputs": [
    {
     "name": "stdout",
     "output_type": "stream",
     "text": [
      "\"cytat\"'\\\n",
      "\n",
      " nowa \t linia\n"
     ]
    }
   ],
   "source": [
    "# znaki specjane\n",
    "s = '\"cytat\"\\'\\\\\\n\\n nowa \\t linia'\n",
    "print(s)\n"
   ]
  },
  {
   "cell_type": "code",
   "execution_count": 21,
   "id": "1b65edb7",
   "metadata": {},
   "outputs": [
    {
     "ename": "SyntaxError",
     "evalue": "EOL while scanning string literal (<ipython-input-21-ebc9b64a7fcb>, line 1)",
     "output_type": "error",
     "traceback": [
      "\u001b[1;36m  File \u001b[1;32m\"<ipython-input-21-ebc9b64a7fcb>\"\u001b[1;36m, line \u001b[1;32m1\u001b[0m\n\u001b[1;33m    path = 'c:\\\\users\\'\u001b[0m\n\u001b[1;37m                       ^\u001b[0m\n\u001b[1;31mSyntaxError\u001b[0m\u001b[1;31m:\u001b[0m EOL while scanning string literal\n"
     ]
    }
   ],
   "source": [
    "path = 'c:\\\\users\\'"
   ]
  },
  {
   "cell_type": "code",
   "execution_count": 23,
   "id": "e4fdc8b2",
   "metadata": {},
   "outputs": [
    {
     "data": {
      "text/plain": [
       "'c:\\\\users\\\\'"
      ]
     },
     "execution_count": 23,
     "metadata": {},
     "output_type": "execute_result"
    }
   ],
   "source": [
    "path"
   ]
  },
  {
   "cell_type": "code",
   "execution_count": 24,
   "id": "f4555717",
   "metadata": {},
   "outputs": [
    {
     "data": {
      "text/plain": [
       "'\"cytat\"\\'\\\\\\n\\n nowa \\t linia'"
      ]
     },
     "execution_count": 24,
     "metadata": {},
     "output_type": "execute_result"
    }
   ],
   "source": [
    "s"
   ]
  },
  {
   "cell_type": "code",
   "execution_count": 25,
   "id": "ccf1a78c",
   "metadata": {},
   "outputs": [
    {
     "name": "stdout",
     "output_type": "stream",
     "text": [
      "\"cytat\"'\\\n",
      "\n",
      " nowa \t linia\n"
     ]
    }
   ],
   "source": [
    "print(s)"
   ]
  },
  {
   "cell_type": "code",
   "execution_count": 26,
   "id": "3f49ac74",
   "metadata": {},
   "outputs": [
    {
     "ename": "NameError",
     "evalue": "name 'srtsneitn' is not defined",
     "output_type": "error",
     "traceback": [
      "\u001b[1;31m---------------------------------------------------------------------------\u001b[0m",
      "\u001b[1;31mNameError\u001b[0m                                 Traceback (most recent call last)",
      "\u001b[1;32m<ipython-input-26-f51cc40ca4bd>\u001b[0m in \u001b[0;36m<module>\u001b[1;34m\u001b[0m\n\u001b[1;32m----> 1\u001b[1;33m \u001b[0msrtsneitn\u001b[0m\u001b[1;33m\u001b[0m\u001b[1;33m\u001b[0m\u001b[0m\n\u001b[0m",
      "\u001b[1;31mNameError\u001b[0m: name 'srtsneitn' is not defined"
     ]
    }
   ],
   "source": [
    "srtsneitn"
   ]
  },
  {
   "cell_type": "code",
   "execution_count": 37,
   "id": "a3e91d2f",
   "metadata": {},
   "outputs": [],
   "source": [
    "# Listy i tabilce\n",
    "lista = [1,2,3,4,\"Nikt sie nie spodziewał hiszpańskiej inkwizycji\"]"
   ]
  },
  {
   "cell_type": "code",
   "execution_count": 28,
   "id": "0cf64f8e",
   "metadata": {},
   "outputs": [
    {
     "data": {
      "text/plain": [
       "1"
      ]
     },
     "execution_count": 28,
     "metadata": {},
     "output_type": "execute_result"
    }
   ],
   "source": [
    "lista[0] # indeksujemy od 0"
   ]
  },
  {
   "cell_type": "code",
   "execution_count": 29,
   "id": "be276742",
   "metadata": {},
   "outputs": [
    {
     "data": {
      "text/plain": [
       "5"
      ]
     },
     "execution_count": 29,
     "metadata": {},
     "output_type": "execute_result"
    }
   ],
   "source": [
    "len(lista)"
   ]
  },
  {
   "cell_type": "code",
   "execution_count": 33,
   "id": "3316ed07",
   "metadata": {},
   "outputs": [
    {
     "data": {
      "text/plain": [
       "9"
      ]
     },
     "execution_count": 33,
     "metadata": {},
     "output_type": "execute_result"
    }
   ],
   "source": [
    "len(path)"
   ]
  },
  {
   "cell_type": "code",
   "execution_count": 34,
   "id": "b17a8d7c",
   "metadata": {},
   "outputs": [
    {
     "name": "stdout",
     "output_type": "stream",
     "text": [
      "Help on list object:\n",
      "\n",
      "class list(object)\n",
      " |  list() -> new empty list\n",
      " |  list(iterable) -> new list initialized from iterable's items\n",
      " |  \n",
      " |  Methods defined here:\n",
      " |  \n",
      " |  __add__(self, value, /)\n",
      " |      Return self+value.\n",
      " |  \n",
      " |  __contains__(self, key, /)\n",
      " |      Return key in self.\n",
      " |  \n",
      " |  __delitem__(self, key, /)\n",
      " |      Delete self[key].\n",
      " |  \n",
      " |  __eq__(self, value, /)\n",
      " |      Return self==value.\n",
      " |  \n",
      " |  __ge__(self, value, /)\n",
      " |      Return self>=value.\n",
      " |  \n",
      " |  __getattribute__(self, name, /)\n",
      " |      Return getattr(self, name).\n",
      " |  \n",
      " |  __getitem__(...)\n",
      " |      x.__getitem__(y) <==> x[y]\n",
      " |  \n",
      " |  __gt__(self, value, /)\n",
      " |      Return self>value.\n",
      " |  \n",
      " |  __iadd__(self, value, /)\n",
      " |      Implement self+=value.\n",
      " |  \n",
      " |  __imul__(self, value, /)\n",
      " |      Implement self*=value.\n",
      " |  \n",
      " |  __init__(self, /, *args, **kwargs)\n",
      " |      Initialize self.  See help(type(self)) for accurate signature.\n",
      " |  \n",
      " |  __iter__(self, /)\n",
      " |      Implement iter(self).\n",
      " |  \n",
      " |  __le__(self, value, /)\n",
      " |      Return self<=value.\n",
      " |  \n",
      " |  __len__(self, /)\n",
      " |      Return len(self).\n",
      " |  \n",
      " |  __lt__(self, value, /)\n",
      " |      Return self<value.\n",
      " |  \n",
      " |  __mul__(self, value, /)\n",
      " |      Return self*value.\n",
      " |  \n",
      " |  __ne__(self, value, /)\n",
      " |      Return self!=value.\n",
      " |  \n",
      " |  __new__(*args, **kwargs) from builtins.type\n",
      " |      Create and return a new object.  See help(type) for accurate signature.\n",
      " |  \n",
      " |  __repr__(self, /)\n",
      " |      Return repr(self).\n",
      " |  \n",
      " |  __reversed__(...)\n",
      " |      L.__reversed__() -- return a reverse iterator over the list\n",
      " |  \n",
      " |  __rmul__(self, value, /)\n",
      " |      Return value*self.\n",
      " |  \n",
      " |  __setitem__(self, key, value, /)\n",
      " |      Set self[key] to value.\n",
      " |  \n",
      " |  __sizeof__(...)\n",
      " |      L.__sizeof__() -- size of L in memory, in bytes\n",
      " |  \n",
      " |  append(...)\n",
      " |      L.append(object) -> None -- append object to end\n",
      " |  \n",
      " |  clear(...)\n",
      " |      L.clear() -> None -- remove all items from L\n",
      " |  \n",
      " |  copy(...)\n",
      " |      L.copy() -> list -- a shallow copy of L\n",
      " |  \n",
      " |  count(...)\n",
      " |      L.count(value) -> integer -- return number of occurrences of value\n",
      " |  \n",
      " |  extend(...)\n",
      " |      L.extend(iterable) -> None -- extend list by appending elements from the iterable\n",
      " |  \n",
      " |  index(...)\n",
      " |      L.index(value, [start, [stop]]) -> integer -- return first index of value.\n",
      " |      Raises ValueError if the value is not present.\n",
      " |  \n",
      " |  insert(...)\n",
      " |      L.insert(index, object) -- insert object before index\n",
      " |  \n",
      " |  pop(...)\n",
      " |      L.pop([index]) -> item -- remove and return item at index (default last).\n",
      " |      Raises IndexError if list is empty or index is out of range.\n",
      " |  \n",
      " |  remove(...)\n",
      " |      L.remove(value) -> None -- remove first occurrence of value.\n",
      " |      Raises ValueError if the value is not present.\n",
      " |  \n",
      " |  reverse(...)\n",
      " |      L.reverse() -- reverse *IN PLACE*\n",
      " |  \n",
      " |  sort(...)\n",
      " |      L.sort(key=None, reverse=False) -> None -- stable sort *IN PLACE*\n",
      " |  \n",
      " |  ----------------------------------------------------------------------\n",
      " |  Data and other attributes defined here:\n",
      " |  \n",
      " |  __hash__ = None\n",
      "\n"
     ]
    }
   ],
   "source": [
    "help(lista)"
   ]
  },
  {
   "cell_type": "code",
   "execution_count": 35,
   "id": "b7c50f3d",
   "metadata": {},
   "outputs": [],
   "source": [
    "lista.clear()\n"
   ]
  },
  {
   "cell_type": "code",
   "execution_count": 50,
   "id": "caee0c82",
   "metadata": {},
   "outputs": [
    {
     "data": {
      "text/plain": [
       "'abcabc'"
      ]
     },
     "execution_count": 50,
     "metadata": {},
     "output_type": "execute_result"
    }
   ],
   "source": [
    "2*\"abc\""
   ]
  },
  {
   "cell_type": "code",
   "execution_count": 63,
   "id": "347bf783",
   "metadata": {},
   "outputs": [],
   "source": [
    "# Listy i tabilce\n",
    "lista = [1,2,3,4,\"Nikt sie nie spodziewał hiszpańskiej inkwizycji\"]"
   ]
  },
  {
   "cell_type": "code",
   "execution_count": 66,
   "id": "d86a9120",
   "metadata": {},
   "outputs": [
    {
     "data": {
      "text/plain": [
       "[3, 4, 'Nikt sie nie spodziewał hiszpańskiej inkwizycji']"
      ]
     },
     "execution_count": 66,
     "metadata": {},
     "output_type": "execute_result"
    }
   ],
   "source": [
    "lista[2:5]   # od 3 (2+1) do 4 (wyłącznie) [2,4)"
   ]
  },
  {
   "cell_type": "code",
   "execution_count": 69,
   "id": "9ff2a65b",
   "metadata": {},
   "outputs": [
    {
     "data": {
      "text/plain": [
       "4"
      ]
     },
     "execution_count": 69,
     "metadata": {},
     "output_type": "execute_result"
    }
   ],
   "source": [
    "lista[-2]"
   ]
  },
  {
   "cell_type": "code",
   "execution_count": 68,
   "id": "2ab02aab",
   "metadata": {},
   "outputs": [
    {
     "data": {
      "text/plain": [
       "'Nikt sie nie spodziewał hiszpańskiej inkwizycji'"
      ]
     },
     "execution_count": 68,
     "metadata": {},
     "output_type": "execute_result"
    }
   ],
   "source": [
    "lista[len(lista)-1]"
   ]
  },
  {
   "cell_type": "code",
   "execution_count": 73,
   "id": "0de61d07",
   "metadata": {},
   "outputs": [
    {
     "name": "stdout",
     "output_type": "stream",
     "text": [
      "na pozycji 0 mamy: 1\n",
      "na pozycji 1 mamy: 2\n",
      "na pozycji 2 mamy: 3\n",
      "na pozycji 3 mamy: 4\n",
      "na pozycji 4 mamy: Nikt sie nie spodziewał hiszpańskiej inkwizycji\n",
      "Nikt sie nie spodziewał hiszpańskiej inkwizycji\n"
     ]
    }
   ],
   "source": [
    "i = 0\n",
    "for x in lista: # petla\n",
    "    # wciecia TAB decyduja co sie wykonuje wewnatrz petli for\n",
    "    print('na pozycji',i,'mamy:', x)\n",
    "    \n",
    "    i = i + 1 # to nalezy interpretowac jako nowe_i <- stare_i+1\n",
    "print(x)"
   ]
  },
  {
   "cell_type": "code",
   "execution_count": 75,
   "id": "1f8a90c5",
   "metadata": {},
   "outputs": [
    {
     "name": "stdout",
     "output_type": "stream",
     "text": [
      "0\n",
      "1\n",
      "2\n",
      "3\n",
      "4\n"
     ]
    }
   ],
   "source": [
    "for i in range(0,5):\n",
    "    #print(lista[i])\n",
    "    print(i)\n",
    "print(\"to juz nie jest\")"
   ]
  },
  {
   "cell_type": "code",
   "execution_count": 76,
   "id": "97875e1d",
   "metadata": {},
   "outputs": [
    {
     "data": {
      "text/plain": [
       "range(0, 5)"
      ]
     },
     "execution_count": 76,
     "metadata": {},
     "output_type": "execute_result"
    }
   ],
   "source": [
    "range(0,5)"
   ]
  },
  {
   "cell_type": "code",
   "execution_count": 82,
   "id": "8c6949d6",
   "metadata": {},
   "outputs": [
    {
     "data": {
      "text/plain": [
       "[0, 1, 2, 3, 4]"
      ]
     },
     "execution_count": 82,
     "metadata": {},
     "output_type": "execute_result"
    }
   ],
   "source": [
    "list(range(0,5))"
   ]
  },
  {
   "cell_type": "code",
   "execution_count": 79,
   "id": "927085a3",
   "metadata": {},
   "outputs": [
    {
     "data": {
      "text/plain": [
       "['t', 'e', 's', 't']"
      ]
     },
     "execution_count": 79,
     "metadata": {},
     "output_type": "execute_result"
    }
   ],
   "source": [
    "list(\"test\")"
   ]
  },
  {
   "cell_type": "code",
   "execution_count": 83,
   "id": "501eedab",
   "metadata": {},
   "outputs": [
    {
     "name": "stdout",
     "output_type": "stream",
     "text": [
      "*\n",
      "**\n",
      "***\n",
      "****\n",
      "*****\n",
      "******\n",
      "*******\n",
      "********\n",
      "*********\n",
      "**********\n"
     ]
    }
   ],
   "source": [
    "for i in range(0,10):\n",
    "    print(\"*\"*(i+1))"
   ]
  },
  {
   "cell_type": "code",
   "execution_count": 94,
   "id": "fbbd9760",
   "metadata": {},
   "outputs": [
    {
     "name": "stdout",
     "output_type": "stream",
     "text": [
      "dodatnie\n",
      "hop!\n"
     ]
    }
   ],
   "source": [
    "x = 4\n",
    "if x > 0:\n",
    "    print(\"dodatnie\")\n",
    "    print(\"hop!\")\n",
    "elif x < 0: # elif to jest ELSE IF\n",
    "    print(\"ujemne\")\n",
    "elif x > 0:\n",
    "    print(\"xx\")\n",
    "else:\n",
    "    print(\"no chyba zero\")\n",
    "    "
   ]
  },
  {
   "cell_type": "code",
   "execution_count": 96,
   "id": "e3994acd",
   "metadata": {},
   "outputs": [],
   "source": [
    "l = [1,2,3,1,2,3,4,-1,0,x]\n",
    "\n",
    "\n",
    "\n"
   ]
  },
  {
   "cell_type": "code",
   "execution_count": 97,
   "id": "9786e304",
   "metadata": {},
   "outputs": [
    {
     "data": {
      "text/plain": [
       "[1, 2, 3, 1, 2, 3, 4, -1, 0, 4]"
      ]
     },
     "execution_count": 97,
     "metadata": {},
     "output_type": "execute_result"
    }
   ],
   "source": [
    "l"
   ]
  },
  {
   "cell_type": "code",
   "execution_count": 101,
   "id": "119e52ef",
   "metadata": {},
   "outputs": [
    {
     "data": {
      "text/plain": [
       "[-10, 0]"
      ]
     },
     "execution_count": 101,
     "metadata": {},
     "output_type": "execute_result"
    }
   ],
   "source": [
    "result = [ 10*y  for y in l if y <= 0 ] # magia:)\n",
    "result"
   ]
  },
  {
   "cell_type": "code",
   "execution_count": 105,
   "id": "da5fbcc1",
   "metadata": {},
   "outputs": [],
   "source": [
    "d ={}\n",
    "d[\"Jeden\"] =1\n",
    "d[\"Dwa\"] = 2"
   ]
  },
  {
   "cell_type": "code",
   "execution_count": 108,
   "id": "eb447ad0",
   "metadata": {},
   "outputs": [
    {
     "data": {
      "text/plain": [
       "{'Jeden': 1, 'Dwa': 2, 3: 3}"
      ]
     },
     "execution_count": 108,
     "metadata": {},
     "output_type": "execute_result"
    }
   ],
   "source": [
    "d[3]=3\n",
    "d"
   ]
  },
  {
   "cell_type": "code",
   "execution_count": 109,
   "id": "cb33c6d4",
   "metadata": {},
   "outputs": [
    {
     "data": {
      "text/plain": [
       "{'Jeden': 7, 'Dwa': 2, 3: 3}"
      ]
     },
     "execution_count": 109,
     "metadata": {},
     "output_type": "execute_result"
    }
   ],
   "source": [
    "d[\"Jeden\"]=7\n",
    "d"
   ]
  },
  {
   "cell_type": "code",
   "execution_count": 110,
   "id": "e2220e22",
   "metadata": {},
   "outputs": [
    {
     "data": {
      "text/plain": [
       "dict"
      ]
     },
     "execution_count": 110,
     "metadata": {},
     "output_type": "execute_result"
    }
   ],
   "source": [
    "type(d)"
   ]
  },
  {
   "cell_type": "code",
   "execution_count": 111,
   "id": "ce4bc123",
   "metadata": {},
   "outputs": [
    {
     "data": {
      "text/plain": [
       "3"
      ]
     },
     "execution_count": 111,
     "metadata": {},
     "output_type": "execute_result"
    }
   ],
   "source": [
    "len(d)"
   ]
  },
  {
   "cell_type": "code",
   "execution_count": 112,
   "id": "fba0e192",
   "metadata": {},
   "outputs": [],
   "source": [
    "d2 = {\"windows\":10, 'ubuntu':16.04}"
   ]
  },
  {
   "cell_type": "code",
   "execution_count": 114,
   "id": "b5a202b0",
   "metadata": {},
   "outputs": [
    {
     "data": {
      "text/plain": [
       "{'windows': 10, 'ubuntu': 16.04}"
      ]
     },
     "execution_count": 114,
     "metadata": {},
     "output_type": "execute_result"
    }
   ],
   "source": [
    "d2"
   ]
  },
  {
   "cell_type": "code",
   "execution_count": 115,
   "id": "f242e595",
   "metadata": {},
   "outputs": [
    {
     "data": {
      "text/plain": [
       "16.04"
      ]
     },
     "execution_count": 115,
     "metadata": {},
     "output_type": "execute_result"
    }
   ],
   "source": [
    "d2[\"ubuntu\"]"
   ]
  },
  {
   "cell_type": "code",
   "execution_count": 116,
   "id": "e64ef587",
   "metadata": {},
   "outputs": [],
   "source": [
    "ubuntu=\"windows\""
   ]
  },
  {
   "cell_type": "code",
   "execution_count": 117,
   "id": "7298e500",
   "metadata": {},
   "outputs": [
    {
     "data": {
      "text/plain": [
       "'windows'"
      ]
     },
     "execution_count": 117,
     "metadata": {},
     "output_type": "execute_result"
    }
   ],
   "source": [
    "ubuntu"
   ]
  },
  {
   "cell_type": "code",
   "execution_count": 118,
   "id": "81c9feb2",
   "metadata": {},
   "outputs": [
    {
     "data": {
      "text/plain": [
       "10"
      ]
     },
     "execution_count": 118,
     "metadata": {},
     "output_type": "execute_result"
    }
   ],
   "source": [
    "d2[ubuntu]"
   ]
  },
  {
   "cell_type": "code",
   "execution_count": 119,
   "id": "2986bcd9",
   "metadata": {},
   "outputs": [
    {
     "data": {
      "text/plain": [
       "16.04"
      ]
     },
     "execution_count": 119,
     "metadata": {},
     "output_type": "execute_result"
    }
   ],
   "source": [
    "d2[\"ubuntu\"]"
   ]
  },
  {
   "cell_type": "code",
   "execution_count": 120,
   "id": "f1120fc9",
   "metadata": {},
   "outputs": [
    {
     "data": {
      "text/plain": [
       "False"
      ]
     },
     "execution_count": 120,
     "metadata": {},
     "output_type": "execute_result"
    }
   ],
   "source": [
    "\"mac\" in d2"
   ]
  },
  {
   "cell_type": "code",
   "execution_count": 121,
   "id": "4db04b4c",
   "metadata": {},
   "outputs": [
    {
     "data": {
      "text/plain": [
       "True"
      ]
     },
     "execution_count": 121,
     "metadata": {},
     "output_type": "execute_result"
    }
   ],
   "source": [
    "\"windows\" in d2"
   ]
  },
  {
   "cell_type": "code",
   "execution_count": 122,
   "id": "c2fa84a4",
   "metadata": {},
   "outputs": [
    {
     "data": {
      "text/plain": [
       "[1, 2, 3, 1, 2, 3, 4, -1, 0, 4]"
      ]
     },
     "execution_count": 122,
     "metadata": {},
     "output_type": "execute_result"
    }
   ],
   "source": [
    "l"
   ]
  },
  {
   "cell_type": "code",
   "execution_count": 123,
   "id": "3428008f",
   "metadata": {},
   "outputs": [
    {
     "data": {
      "text/plain": [
       "False"
      ]
     },
     "execution_count": 123,
     "metadata": {},
     "output_type": "execute_result"
    }
   ],
   "source": [
    "7 in l"
   ]
  },
  {
   "cell_type": "code",
   "execution_count": 124,
   "id": "7e21fdee",
   "metadata": {},
   "outputs": [
    {
     "data": {
      "text/plain": [
       "True"
      ]
     },
     "execution_count": 124,
     "metadata": {},
     "output_type": "execute_result"
    }
   ],
   "source": [
    "3 in l"
   ]
  },
  {
   "cell_type": "code",
   "execution_count": 126,
   "id": "6838cda8",
   "metadata": {},
   "outputs": [],
   "source": [
    "\n",
    "def zaneguj(tekst, negacja=\"nie\"):\n",
    "    nietekst = negacja + \" \"+tekst\n",
    "    return nietekst"
   ]
  },
  {
   "cell_type": "code",
   "execution_count": 131,
   "id": "5e814834",
   "metadata": {},
   "outputs": [
    {
     "data": {
      "text/plain": [
       "'keine bigos'"
      ]
     },
     "execution_count": 131,
     "metadata": {},
     "output_type": "execute_result"
    }
   ],
   "source": [
    "zaneguj(\"bigos\", \"keine\")"
   ]
  },
  {
   "cell_type": "code",
   "execution_count": 130,
   "id": "5e262133",
   "metadata": {},
   "outputs": [
    {
     "name": "stdout",
     "output_type": "stream",
     "text": [
      "Help on function zaneguj in module __main__:\n",
      "\n",
      "zaneguj(tekst, negacja='nie')\n",
      "\n"
     ]
    }
   ],
   "source": [
    "help(zaneguj)"
   ]
  },
  {
   "cell_type": "code",
   "execution_count": 136,
   "id": "ed756f49",
   "metadata": {},
   "outputs": [],
   "source": [
    "def silnia(n): # 1*2*3*..n\n",
    "    if n == 0:\n",
    "        return 1\n",
    "    else:\n",
    "        return n* silnia(n-1)"
   ]
  },
  {
   "cell_type": "code",
   "execution_count": 137,
   "id": "04736289",
   "metadata": {},
   "outputs": [
    {
     "data": {
      "text/plain": [
       "120"
      ]
     },
     "execution_count": 137,
     "metadata": {},
     "output_type": "execute_result"
    }
   ],
   "source": [
    "silnia(5)"
   ]
  },
  {
   "cell_type": "code",
   "execution_count": 138,
   "id": "54746c1e",
   "metadata": {},
   "outputs": [
    {
     "data": {
      "text/plain": [
       "120"
      ]
     },
     "execution_count": 138,
     "metadata": {},
     "output_type": "execute_result"
    }
   ],
   "source": [
    "1*2*3*4*5"
   ]
  },
  {
   "cell_type": "code",
   "execution_count": 156,
   "id": "6c871206",
   "metadata": {},
   "outputs": [],
   "source": [
    "def silnia2(n):\n",
    "    ## za pomocą petli for\n",
    "    wynik = 1 # jakbysmy zaczeli od zera to nic mądrego z mnożenia przez zero nie wyciągniemy\n",
    "    for i in range(0,n): # bo range zwraca liczby od początku do koniec-1\n",
    "        # podwójne  wcięcie, czyli widać że jestesmy wewnątrz bloku \"def\" a potem wewnątrz bloku \"for\"\n",
    "        wynik=wynik*(i+1)\n",
    "    return wynik\n",
    "\n",
    "        "
   ]
  },
  {
   "cell_type": "code",
   "execution_count": 145,
   "id": "6fa5f200",
   "metadata": {},
   "outputs": [],
   "source": [
    "def funkcje(x):\n",
    "    return x+1"
   ]
  },
  {
   "cell_type": "code",
   "execution_count": 155,
   "id": "d700177a",
   "metadata": {},
   "outputs": [
    {
     "data": {
      "text/plain": [
       "120"
      ]
     },
     "execution_count": 155,
     "metadata": {},
     "output_type": "execute_result"
    }
   ],
   "source": [
    "silnia2(5)"
   ]
  },
  {
   "cell_type": "code",
   "execution_count": 157,
   "id": "64f80937",
   "metadata": {},
   "outputs": [],
   "source": [
    "class Akumulator:\n",
    "    def __init__(self,v): # tzw konstruktor   this.x this->x self=this\n",
    "        self.data = v\n",
    "    def add(self,x):\n",
    "        self.data = self.data+x\n",
    "    def status(self):\n",
    "        print(self.data)"
   ]
  },
  {
   "cell_type": "code",
   "execution_count": 159,
   "id": "01c7c67d",
   "metadata": {},
   "outputs": [],
   "source": [
    "a= Akumulator(7)"
   ]
  },
  {
   "cell_type": "code",
   "execution_count": 160,
   "id": "f9f8e7a6",
   "metadata": {},
   "outputs": [
    {
     "name": "stdout",
     "output_type": "stream",
     "text": [
      "Help on Akumulator in module __main__ object:\n",
      "\n",
      "class Akumulator(builtins.object)\n",
      " |  Methods defined here:\n",
      " |  \n",
      " |  __init__(self, v)\n",
      " |      Initialize self.  See help(type(self)) for accurate signature.\n",
      " |  \n",
      " |  add(self, x)\n",
      " |  \n",
      " |  status(self)\n",
      " |  \n",
      " |  ----------------------------------------------------------------------\n",
      " |  Data descriptors defined here:\n",
      " |  \n",
      " |  __dict__\n",
      " |      dictionary for instance variables (if defined)\n",
      " |  \n",
      " |  __weakref__\n",
      " |      list of weak references to the object (if defined)\n",
      "\n"
     ]
    }
   ],
   "source": [
    "help(a)"
   ]
  },
  {
   "cell_type": "code",
   "execution_count": 164,
   "id": "63001347",
   "metadata": {},
   "outputs": [],
   "source": [
    "a.add(1)"
   ]
  },
  {
   "cell_type": "code",
   "execution_count": 165,
   "id": "c85634f4",
   "metadata": {},
   "outputs": [
    {
     "name": "stdout",
     "output_type": "stream",
     "text": [
      "8\n"
     ]
    }
   ],
   "source": [
    "a.status()"
   ]
  },
  {
   "cell_type": "code",
   "execution_count": 167,
   "id": "d9cdd2ba",
   "metadata": {},
   "outputs": [],
   "source": [
    "class X(Akumulator):\n",
    "    pass"
   ]
  },
  {
   "cell_type": "code",
   "execution_count": 168,
   "id": "6b2d0592",
   "metadata": {},
   "outputs": [
    {
     "data": {
      "text/plain": [
       "['__class__',\n",
       " '__delattr__',\n",
       " '__dict__',\n",
       " '__dir__',\n",
       " '__doc__',\n",
       " '__eq__',\n",
       " '__format__',\n",
       " '__ge__',\n",
       " '__getattribute__',\n",
       " '__gt__',\n",
       " '__hash__',\n",
       " '__init__',\n",
       " '__init_subclass__',\n",
       " '__le__',\n",
       " '__lt__',\n",
       " '__module__',\n",
       " '__ne__',\n",
       " '__new__',\n",
       " '__reduce__',\n",
       " '__reduce_ex__',\n",
       " '__repr__',\n",
       " '__setattr__',\n",
       " '__sizeof__',\n",
       " '__str__',\n",
       " '__subclasshook__',\n",
       " '__weakref__',\n",
       " 'add',\n",
       " 'status']"
      ]
     },
     "execution_count": 168,
     "metadata": {},
     "output_type": "execute_result"
    }
   ],
   "source": [
    "dir(X)"
   ]
  },
  {
   "cell_type": "code",
   "execution_count": 169,
   "id": "1daa096f",
   "metadata": {},
   "outputs": [
    {
     "data": {
      "text/plain": [
       "[1, 'ss', <__main__.Akumulator at 0x1ee6e9a4908>]"
      ]
     },
     "execution_count": 169,
     "metadata": {},
     "output_type": "execute_result"
    }
   ],
   "source": [
    "[1, 'ss', Akumulator(3)]"
   ]
  },
  {
   "cell_type": "code",
   "execution_count": 170,
   "id": "161d4d02",
   "metadata": {},
   "outputs": [
    {
     "ename": "AttributeError",
     "evalue": "'Akumulator' object has no attribute 'clear'",
     "output_type": "error",
     "traceback": [
      "\u001b[1;31m---------------------------------------------------------------------------\u001b[0m",
      "\u001b[1;31mAttributeError\u001b[0m                            Traceback (most recent call last)",
      "\u001b[1;32m<ipython-input-170-c35949880b1f>\u001b[0m in \u001b[0;36m<module>\u001b[1;34m\u001b[0m\n\u001b[1;32m----> 1\u001b[1;33m \u001b[0ma\u001b[0m\u001b[1;33m.\u001b[0m\u001b[0mclear\u001b[0m\u001b[1;33m(\u001b[0m\u001b[1;33m)\u001b[0m\u001b[1;33m\u001b[0m\u001b[1;33m\u001b[0m\u001b[0m\n\u001b[0m",
      "\u001b[1;31mAttributeError\u001b[0m: 'Akumulator' object has no attribute 'clear'"
     ]
    }
   ],
   "source": [
    "a.clear()"
   ]
  },
  {
   "cell_type": "code",
   "execution_count": 171,
   "id": "66f27653",
   "metadata": {},
   "outputs": [],
   "source": [
    "def wyswietl(tekst):\n",
    "    print(tekst)"
   ]
  },
  {
   "cell_type": "code",
   "execution_count": 172,
   "id": "bf4ad936",
   "metadata": {},
   "outputs": [
    {
     "name": "stdout",
     "output_type": "stream",
     "text": [
      "aaa\n"
     ]
    }
   ],
   "source": [
    "wyswietl(\"aaa\")"
   ]
  },
  {
   "cell_type": "code",
   "execution_count": 173,
   "id": "cccf042b",
   "metadata": {},
   "outputs": [],
   "source": [
    "z=1"
   ]
  },
  {
   "cell_type": "code",
   "execution_count": null,
   "id": "8438515b",
   "metadata": {},
   "outputs": [],
   "source": []
  },
  {
   "cell_type": "code",
   "execution_count": null,
   "id": "3eabfc9b",
   "metadata": {},
   "outputs": [],
   "source": [
    "import torch"
   ]
  },
  {
   "cell_type": "code",
   "execution_count": null,
   "id": "3f69cc44",
   "metadata": {},
   "outputs": [],
   "source": []
  }
 ],
 "metadata": {
  "kernelspec": {
   "display_name": "Python 3",
   "language": "python",
   "name": "python3"
  },
  "language_info": {
   "codemirror_mode": {
    "name": "ipython",
    "version": 3
   },
   "file_extension": ".py",
   "mimetype": "text/x-python",
   "name": "python",
   "nbconvert_exporter": "python",
   "pygments_lexer": "ipython3",
   "version": "3.6.13"
  }
 },
 "nbformat": 4,
 "nbformat_minor": 5
}
